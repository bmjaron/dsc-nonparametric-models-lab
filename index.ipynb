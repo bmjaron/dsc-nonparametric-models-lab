{
  "cells": [
    {
      "cell_type": "markdown",
      "metadata": {
        "id": "Nym-xuHH1Eyk"
      },
      "source": [
        "# Nonparametric ML Models - Cumulative Lab\n",
        "\n",
        "## Introduction\n",
        "\n",
        "In this cumulative lab, you will apply two nonparametric models you have just learned — k-nearest neighbors and decision trees — to the forest cover dataset.\n",
        "\n",
        "## Objectives\n",
        "\n",
        "* Practice identifying and applying appropriate preprocessing steps\n",
        "* Perform an iterative modeling process, starting from a baseline model\n",
        "* Explore multiple model algorithms, and tune their hyperparameters\n",
        "* Practice choosing a final model across multiple model algorithms and evaluating its performance"
      ]
    },
    {
      "cell_type": "markdown",
      "metadata": {
        "id": "WBt2UxQD1Eyu"
      },
      "source": [
        "## Your Task: Complete an End-to-End ML Process with Nonparametric Models on the Forest Cover Dataset\n",
        "\n",
        "![line of pine trees](https://github.com/bmjaron/dsc-nonparametric-models-lab/blob/master/images/trees.jpg?raw=1)\n",
        "\n",
        "Photo by <a href=\"https://unsplash.com/@michaelbenz?utm_source=unsplash&utm_medium=referral&utm_content=creditCopyText\">Michael Benz</a> on <a href=\"/s/photos/forest?utm_source=unsplash&utm_medium=referral&utm_content=creditCopyText\">Unsplash</a>"
      ]
    },
    {
      "cell_type": "markdown",
      "metadata": {
        "id": "2YhZo2R_1Eyu"
      },
      "source": [
        "### Business and Data Understanding\n",
        "\n",
        "To repeat the previous description:\n",
        "\n",
        "> Here we will be using an adapted version of the forest cover dataset from the [UCI Machine Learning Repository](https://archive.ics.uci.edu/ml/datasets/covertype). Each record represents a 30 x 30 meter cell of land within Roosevelt National Forest in northern Colorado, which has been labeled as `Cover_Type` 1 for \"Cottonwood/Willow\" and `Cover_Type` 0 for \"Ponderosa Pine\". (The original dataset contained 7 cover types but we have simplified it.)\n",
        "\n",
        "The task is to predict the `Cover_Type` based on the available cartographic variables:"
      ]
    },
    {
      "cell_type": "code",
      "execution_count": 1,
      "metadata": {
        "id": "PBPg5p2C1Eyv",
        "outputId": "6c007f37-eda5-49f0-f6a3-8762693cd796",
        "colab": {
          "base_uri": "https://localhost:8080/",
          "height": 487
        }
      },
      "outputs": [
        {
          "output_type": "execute_result",
          "data": {
            "text/plain": [
              "       Elevation  Aspect  Slope  Horizontal_Distance_To_Hydrology  \\\n",
              "0           2553     235     17                               351   \n",
              "1           2011     344     17                               313   \n",
              "2           2022      24     13                               391   \n",
              "3           2038      50     17                               408   \n",
              "4           2018     341     27                               351   \n",
              "...          ...     ...    ...                               ...   \n",
              "38496       2396     153     20                                85   \n",
              "38497       2391     152     19                                67   \n",
              "38498       2386     159     17                                60   \n",
              "38499       2384     170     15                                60   \n",
              "38500       2383     165     13                                60   \n",
              "\n",
              "       Vertical_Distance_To_Hydrology  Horizontal_Distance_To_Roadways  \\\n",
              "0                                  95                              780   \n",
              "1                                  29                              404   \n",
              "2                                  42                              509   \n",
              "3                                  71                              474   \n",
              "4                                  34                              390   \n",
              "...                               ...                              ...   \n",
              "38496                              17                              108   \n",
              "38497                              12                               95   \n",
              "38498                               7                               90   \n",
              "38499                               5                               90   \n",
              "38500                               4                               67   \n",
              "\n",
              "       Hillshade_9am  Hillshade_Noon  Hillshade_3pm  \\\n",
              "0                188             253            199   \n",
              "1                183             211            164   \n",
              "2                212             212            134   \n",
              "3                226             200            102   \n",
              "4                152             188            168   \n",
              "...              ...             ...            ...   \n",
              "38496            240             237            118   \n",
              "38497            240             237            119   \n",
              "38498            236             241            130   \n",
              "38499            230             245            143   \n",
              "38500            231             244            141   \n",
              "\n",
              "       Horizontal_Distance_To_Fire_Points  ...  Soil_Type_31  Soil_Type_32  \\\n",
              "0                                    1410  ...             0             0   \n",
              "1                                     300  ...             0             0   \n",
              "2                                     421  ...             0             0   \n",
              "3                                     283  ...             0             0   \n",
              "4                                     190  ...             0             0   \n",
              "...                                   ...  ...           ...           ...   \n",
              "38496                                 837  ...             0             0   \n",
              "38497                                 845  ...             0             0   \n",
              "38498                                 854  ...             0             0   \n",
              "38499                                 864  ...             0             0   \n",
              "38500                                 875  ...             0             0   \n",
              "\n",
              "       Soil_Type_33  Soil_Type_34  Soil_Type_35  Soil_Type_36  Soil_Type_37  \\\n",
              "0                 0             0             0             0             0   \n",
              "1                 0             0             0             0             0   \n",
              "2                 0             0             0             0             0   \n",
              "3                 0             0             0             0             0   \n",
              "4                 0             0             0             0             0   \n",
              "...             ...           ...           ...           ...           ...   \n",
              "38496             0             0             0             0             0   \n",
              "38497             0             0             0             0             0   \n",
              "38498             0             0             0             0             0   \n",
              "38499             0             0             0             0             0   \n",
              "38500             0             0             0             0             0   \n",
              "\n",
              "       Soil_Type_38  Soil_Type_39  Cover_Type  \n",
              "0                 0             0           0  \n",
              "1                 0             0           0  \n",
              "2                 0             0           0  \n",
              "3                 0             0           0  \n",
              "4                 0             0           0  \n",
              "...             ...           ...         ...  \n",
              "38496             0             0           0  \n",
              "38497             0             0           0  \n",
              "38498             0             0           0  \n",
              "38499             0             0           0  \n",
              "38500             0             0           0  \n",
              "\n",
              "[38501 rows x 53 columns]"
            ],
            "text/html": [
              "\n",
              "\n",
              "  <div id=\"df-deed8085-fcb0-4a72-a882-acc46b07c09c\">\n",
              "    <div class=\"colab-df-container\">\n",
              "      <div>\n",
              "<style scoped>\n",
              "    .dataframe tbody tr th:only-of-type {\n",
              "        vertical-align: middle;\n",
              "    }\n",
              "\n",
              "    .dataframe tbody tr th {\n",
              "        vertical-align: top;\n",
              "    }\n",
              "\n",
              "    .dataframe thead th {\n",
              "        text-align: right;\n",
              "    }\n",
              "</style>\n",
              "<table border=\"1\" class=\"dataframe\">\n",
              "  <thead>\n",
              "    <tr style=\"text-align: right;\">\n",
              "      <th></th>\n",
              "      <th>Elevation</th>\n",
              "      <th>Aspect</th>\n",
              "      <th>Slope</th>\n",
              "      <th>Horizontal_Distance_To_Hydrology</th>\n",
              "      <th>Vertical_Distance_To_Hydrology</th>\n",
              "      <th>Horizontal_Distance_To_Roadways</th>\n",
              "      <th>Hillshade_9am</th>\n",
              "      <th>Hillshade_Noon</th>\n",
              "      <th>Hillshade_3pm</th>\n",
              "      <th>Horizontal_Distance_To_Fire_Points</th>\n",
              "      <th>...</th>\n",
              "      <th>Soil_Type_31</th>\n",
              "      <th>Soil_Type_32</th>\n",
              "      <th>Soil_Type_33</th>\n",
              "      <th>Soil_Type_34</th>\n",
              "      <th>Soil_Type_35</th>\n",
              "      <th>Soil_Type_36</th>\n",
              "      <th>Soil_Type_37</th>\n",
              "      <th>Soil_Type_38</th>\n",
              "      <th>Soil_Type_39</th>\n",
              "      <th>Cover_Type</th>\n",
              "    </tr>\n",
              "  </thead>\n",
              "  <tbody>\n",
              "    <tr>\n",
              "      <th>0</th>\n",
              "      <td>2553</td>\n",
              "      <td>235</td>\n",
              "      <td>17</td>\n",
              "      <td>351</td>\n",
              "      <td>95</td>\n",
              "      <td>780</td>\n",
              "      <td>188</td>\n",
              "      <td>253</td>\n",
              "      <td>199</td>\n",
              "      <td>1410</td>\n",
              "      <td>...</td>\n",
              "      <td>0</td>\n",
              "      <td>0</td>\n",
              "      <td>0</td>\n",
              "      <td>0</td>\n",
              "      <td>0</td>\n",
              "      <td>0</td>\n",
              "      <td>0</td>\n",
              "      <td>0</td>\n",
              "      <td>0</td>\n",
              "      <td>0</td>\n",
              "    </tr>\n",
              "    <tr>\n",
              "      <th>1</th>\n",
              "      <td>2011</td>\n",
              "      <td>344</td>\n",
              "      <td>17</td>\n",
              "      <td>313</td>\n",
              "      <td>29</td>\n",
              "      <td>404</td>\n",
              "      <td>183</td>\n",
              "      <td>211</td>\n",
              "      <td>164</td>\n",
              "      <td>300</td>\n",
              "      <td>...</td>\n",
              "      <td>0</td>\n",
              "      <td>0</td>\n",
              "      <td>0</td>\n",
              "      <td>0</td>\n",
              "      <td>0</td>\n",
              "      <td>0</td>\n",
              "      <td>0</td>\n",
              "      <td>0</td>\n",
              "      <td>0</td>\n",
              "      <td>0</td>\n",
              "    </tr>\n",
              "    <tr>\n",
              "      <th>2</th>\n",
              "      <td>2022</td>\n",
              "      <td>24</td>\n",
              "      <td>13</td>\n",
              "      <td>391</td>\n",
              "      <td>42</td>\n",
              "      <td>509</td>\n",
              "      <td>212</td>\n",
              "      <td>212</td>\n",
              "      <td>134</td>\n",
              "      <td>421</td>\n",
              "      <td>...</td>\n",
              "      <td>0</td>\n",
              "      <td>0</td>\n",
              "      <td>0</td>\n",
              "      <td>0</td>\n",
              "      <td>0</td>\n",
              "      <td>0</td>\n",
              "      <td>0</td>\n",
              "      <td>0</td>\n",
              "      <td>0</td>\n",
              "      <td>0</td>\n",
              "    </tr>\n",
              "    <tr>\n",
              "      <th>3</th>\n",
              "      <td>2038</td>\n",
              "      <td>50</td>\n",
              "      <td>17</td>\n",
              "      <td>408</td>\n",
              "      <td>71</td>\n",
              "      <td>474</td>\n",
              "      <td>226</td>\n",
              "      <td>200</td>\n",
              "      <td>102</td>\n",
              "      <td>283</td>\n",
              "      <td>...</td>\n",
              "      <td>0</td>\n",
              "      <td>0</td>\n",
              "      <td>0</td>\n",
              "      <td>0</td>\n",
              "      <td>0</td>\n",
              "      <td>0</td>\n",
              "      <td>0</td>\n",
              "      <td>0</td>\n",
              "      <td>0</td>\n",
              "      <td>0</td>\n",
              "    </tr>\n",
              "    <tr>\n",
              "      <th>4</th>\n",
              "      <td>2018</td>\n",
              "      <td>341</td>\n",
              "      <td>27</td>\n",
              "      <td>351</td>\n",
              "      <td>34</td>\n",
              "      <td>390</td>\n",
              "      <td>152</td>\n",
              "      <td>188</td>\n",
              "      <td>168</td>\n",
              "      <td>190</td>\n",
              "      <td>...</td>\n",
              "      <td>0</td>\n",
              "      <td>0</td>\n",
              "      <td>0</td>\n",
              "      <td>0</td>\n",
              "      <td>0</td>\n",
              "      <td>0</td>\n",
              "      <td>0</td>\n",
              "      <td>0</td>\n",
              "      <td>0</td>\n",
              "      <td>0</td>\n",
              "    </tr>\n",
              "    <tr>\n",
              "      <th>...</th>\n",
              "      <td>...</td>\n",
              "      <td>...</td>\n",
              "      <td>...</td>\n",
              "      <td>...</td>\n",
              "      <td>...</td>\n",
              "      <td>...</td>\n",
              "      <td>...</td>\n",
              "      <td>...</td>\n",
              "      <td>...</td>\n",
              "      <td>...</td>\n",
              "      <td>...</td>\n",
              "      <td>...</td>\n",
              "      <td>...</td>\n",
              "      <td>...</td>\n",
              "      <td>...</td>\n",
              "      <td>...</td>\n",
              "      <td>...</td>\n",
              "      <td>...</td>\n",
              "      <td>...</td>\n",
              "      <td>...</td>\n",
              "      <td>...</td>\n",
              "    </tr>\n",
              "    <tr>\n",
              "      <th>38496</th>\n",
              "      <td>2396</td>\n",
              "      <td>153</td>\n",
              "      <td>20</td>\n",
              "      <td>85</td>\n",
              "      <td>17</td>\n",
              "      <td>108</td>\n",
              "      <td>240</td>\n",
              "      <td>237</td>\n",
              "      <td>118</td>\n",
              "      <td>837</td>\n",
              "      <td>...</td>\n",
              "      <td>0</td>\n",
              "      <td>0</td>\n",
              "      <td>0</td>\n",
              "      <td>0</td>\n",
              "      <td>0</td>\n",
              "      <td>0</td>\n",
              "      <td>0</td>\n",
              "      <td>0</td>\n",
              "      <td>0</td>\n",
              "      <td>0</td>\n",
              "    </tr>\n",
              "    <tr>\n",
              "      <th>38497</th>\n",
              "      <td>2391</td>\n",
              "      <td>152</td>\n",
              "      <td>19</td>\n",
              "      <td>67</td>\n",
              "      <td>12</td>\n",
              "      <td>95</td>\n",
              "      <td>240</td>\n",
              "      <td>237</td>\n",
              "      <td>119</td>\n",
              "      <td>845</td>\n",
              "      <td>...</td>\n",
              "      <td>0</td>\n",
              "      <td>0</td>\n",
              "      <td>0</td>\n",
              "      <td>0</td>\n",
              "      <td>0</td>\n",
              "      <td>0</td>\n",
              "      <td>0</td>\n",
              "      <td>0</td>\n",
              "      <td>0</td>\n",
              "      <td>0</td>\n",
              "    </tr>\n",
              "    <tr>\n",
              "      <th>38498</th>\n",
              "      <td>2386</td>\n",
              "      <td>159</td>\n",
              "      <td>17</td>\n",
              "      <td>60</td>\n",
              "      <td>7</td>\n",
              "      <td>90</td>\n",
              "      <td>236</td>\n",
              "      <td>241</td>\n",
              "      <td>130</td>\n",
              "      <td>854</td>\n",
              "      <td>...</td>\n",
              "      <td>0</td>\n",
              "      <td>0</td>\n",
              "      <td>0</td>\n",
              "      <td>0</td>\n",
              "      <td>0</td>\n",
              "      <td>0</td>\n",
              "      <td>0</td>\n",
              "      <td>0</td>\n",
              "      <td>0</td>\n",
              "      <td>0</td>\n",
              "    </tr>\n",
              "    <tr>\n",
              "      <th>38499</th>\n",
              "      <td>2384</td>\n",
              "      <td>170</td>\n",
              "      <td>15</td>\n",
              "      <td>60</td>\n",
              "      <td>5</td>\n",
              "      <td>90</td>\n",
              "      <td>230</td>\n",
              "      <td>245</td>\n",
              "      <td>143</td>\n",
              "      <td>864</td>\n",
              "      <td>...</td>\n",
              "      <td>0</td>\n",
              "      <td>0</td>\n",
              "      <td>0</td>\n",
              "      <td>0</td>\n",
              "      <td>0</td>\n",
              "      <td>0</td>\n",
              "      <td>0</td>\n",
              "      <td>0</td>\n",
              "      <td>0</td>\n",
              "      <td>0</td>\n",
              "    </tr>\n",
              "    <tr>\n",
              "      <th>38500</th>\n",
              "      <td>2383</td>\n",
              "      <td>165</td>\n",
              "      <td>13</td>\n",
              "      <td>60</td>\n",
              "      <td>4</td>\n",
              "      <td>67</td>\n",
              "      <td>231</td>\n",
              "      <td>244</td>\n",
              "      <td>141</td>\n",
              "      <td>875</td>\n",
              "      <td>...</td>\n",
              "      <td>0</td>\n",
              "      <td>0</td>\n",
              "      <td>0</td>\n",
              "      <td>0</td>\n",
              "      <td>0</td>\n",
              "      <td>0</td>\n",
              "      <td>0</td>\n",
              "      <td>0</td>\n",
              "      <td>0</td>\n",
              "      <td>0</td>\n",
              "    </tr>\n",
              "  </tbody>\n",
              "</table>\n",
              "<p>38501 rows × 53 columns</p>\n",
              "</div>\n",
              "      <button class=\"colab-df-convert\" onclick=\"convertToInteractive('df-deed8085-fcb0-4a72-a882-acc46b07c09c')\"\n",
              "              title=\"Convert this dataframe to an interactive table.\"\n",
              "              style=\"display:none;\">\n",
              "\n",
              "  <svg xmlns=\"http://www.w3.org/2000/svg\" height=\"24px\"viewBox=\"0 0 24 24\"\n",
              "       width=\"24px\">\n",
              "    <path d=\"M0 0h24v24H0V0z\" fill=\"none\"/>\n",
              "    <path d=\"M18.56 5.44l.94 2.06.94-2.06 2.06-.94-2.06-.94-.94-2.06-.94 2.06-2.06.94zm-11 1L8.5 8.5l.94-2.06 2.06-.94-2.06-.94L8.5 2.5l-.94 2.06-2.06.94zm10 10l.94 2.06.94-2.06 2.06-.94-2.06-.94-.94-2.06-.94 2.06-2.06.94z\"/><path d=\"M17.41 7.96l-1.37-1.37c-.4-.4-.92-.59-1.43-.59-.52 0-1.04.2-1.43.59L10.3 9.45l-7.72 7.72c-.78.78-.78 2.05 0 2.83L4 21.41c.39.39.9.59 1.41.59.51 0 1.02-.2 1.41-.59l7.78-7.78 2.81-2.81c.8-.78.8-2.07 0-2.86zM5.41 20L4 18.59l7.72-7.72 1.47 1.35L5.41 20z\"/>\n",
              "  </svg>\n",
              "      </button>\n",
              "\n",
              "\n",
              "\n",
              "    <div id=\"df-f6a05090-3be2-424b-b203-423eb3d96ce8\">\n",
              "      <button class=\"colab-df-quickchart\" onclick=\"quickchart('df-f6a05090-3be2-424b-b203-423eb3d96ce8')\"\n",
              "              title=\"Suggest charts.\"\n",
              "              style=\"display:none;\">\n",
              "\n",
              "<svg xmlns=\"http://www.w3.org/2000/svg\" height=\"24px\"viewBox=\"0 0 24 24\"\n",
              "     width=\"24px\">\n",
              "    <g>\n",
              "        <path d=\"M19 3H5c-1.1 0-2 .9-2 2v14c0 1.1.9 2 2 2h14c1.1 0 2-.9 2-2V5c0-1.1-.9-2-2-2zM9 17H7v-7h2v7zm4 0h-2V7h2v10zm4 0h-2v-4h2v4z\"/>\n",
              "    </g>\n",
              "</svg>\n",
              "      </button>\n",
              "    </div>\n",
              "\n",
              "<style>\n",
              "  .colab-df-quickchart {\n",
              "    background-color: #E8F0FE;\n",
              "    border: none;\n",
              "    border-radius: 50%;\n",
              "    cursor: pointer;\n",
              "    display: none;\n",
              "    fill: #1967D2;\n",
              "    height: 32px;\n",
              "    padding: 0 0 0 0;\n",
              "    width: 32px;\n",
              "  }\n",
              "\n",
              "  .colab-df-quickchart:hover {\n",
              "    background-color: #E2EBFA;\n",
              "    box-shadow: 0px 1px 2px rgba(60, 64, 67, 0.3), 0px 1px 3px 1px rgba(60, 64, 67, 0.15);\n",
              "    fill: #174EA6;\n",
              "  }\n",
              "\n",
              "  [theme=dark] .colab-df-quickchart {\n",
              "    background-color: #3B4455;\n",
              "    fill: #D2E3FC;\n",
              "  }\n",
              "\n",
              "  [theme=dark] .colab-df-quickchart:hover {\n",
              "    background-color: #434B5C;\n",
              "    box-shadow: 0px 1px 3px 1px rgba(0, 0, 0, 0.15);\n",
              "    filter: drop-shadow(0px 1px 2px rgba(0, 0, 0, 0.3));\n",
              "    fill: #FFFFFF;\n",
              "  }\n",
              "</style>\n",
              "\n",
              "    <script>\n",
              "      async function quickchart(key) {\n",
              "        const containerElement = document.querySelector('#' + key);\n",
              "        const charts = await google.colab.kernel.invokeFunction(\n",
              "            'suggestCharts', [key], {});\n",
              "      }\n",
              "    </script>\n",
              "\n",
              "      <script>\n",
              "\n",
              "function displayQuickchartButton(domScope) {\n",
              "  let quickchartButtonEl =\n",
              "    domScope.querySelector('#df-f6a05090-3be2-424b-b203-423eb3d96ce8 button.colab-df-quickchart');\n",
              "  quickchartButtonEl.style.display =\n",
              "    google.colab.kernel.accessAllowed ? 'block' : 'none';\n",
              "}\n",
              "\n",
              "        displayQuickchartButton(document);\n",
              "      </script>\n",
              "      <style>\n",
              "    .colab-df-container {\n",
              "      display:flex;\n",
              "      flex-wrap:wrap;\n",
              "      gap: 12px;\n",
              "    }\n",
              "\n",
              "    .colab-df-convert {\n",
              "      background-color: #E8F0FE;\n",
              "      border: none;\n",
              "      border-radius: 50%;\n",
              "      cursor: pointer;\n",
              "      display: none;\n",
              "      fill: #1967D2;\n",
              "      height: 32px;\n",
              "      padding: 0 0 0 0;\n",
              "      width: 32px;\n",
              "    }\n",
              "\n",
              "    .colab-df-convert:hover {\n",
              "      background-color: #E2EBFA;\n",
              "      box-shadow: 0px 1px 2px rgba(60, 64, 67, 0.3), 0px 1px 3px 1px rgba(60, 64, 67, 0.15);\n",
              "      fill: #174EA6;\n",
              "    }\n",
              "\n",
              "    [theme=dark] .colab-df-convert {\n",
              "      background-color: #3B4455;\n",
              "      fill: #D2E3FC;\n",
              "    }\n",
              "\n",
              "    [theme=dark] .colab-df-convert:hover {\n",
              "      background-color: #434B5C;\n",
              "      box-shadow: 0px 1px 3px 1px rgba(0, 0, 0, 0.15);\n",
              "      filter: drop-shadow(0px 1px 2px rgba(0, 0, 0, 0.3));\n",
              "      fill: #FFFFFF;\n",
              "    }\n",
              "  </style>\n",
              "\n",
              "      <script>\n",
              "        const buttonEl =\n",
              "          document.querySelector('#df-deed8085-fcb0-4a72-a882-acc46b07c09c button.colab-df-convert');\n",
              "        buttonEl.style.display =\n",
              "          google.colab.kernel.accessAllowed ? 'block' : 'none';\n",
              "\n",
              "        async function convertToInteractive(key) {\n",
              "          const element = document.querySelector('#df-deed8085-fcb0-4a72-a882-acc46b07c09c');\n",
              "          const dataTable =\n",
              "            await google.colab.kernel.invokeFunction('convertToInteractive',\n",
              "                                                     [key], {});\n",
              "          if (!dataTable) return;\n",
              "\n",
              "          const docLinkHtml = 'Like what you see? Visit the ' +\n",
              "            '<a target=\"_blank\" href=https://colab.research.google.com/notebooks/data_table.ipynb>data table notebook</a>'\n",
              "            + ' to learn more about interactive tables.';\n",
              "          element.innerHTML = '';\n",
              "          dataTable['output_type'] = 'display_data';\n",
              "          await google.colab.output.renderOutput(dataTable, element);\n",
              "          const docLink = document.createElement('div');\n",
              "          docLink.innerHTML = docLinkHtml;\n",
              "          element.appendChild(docLink);\n",
              "        }\n",
              "      </script>\n",
              "    </div>\n",
              "  </div>\n"
            ]
          },
          "metadata": {},
          "execution_count": 1
        }
      ],
      "source": [
        "# Run this cell without changes\n",
        "import pandas as pd\n",
        "\n",
        "df = pd.read_csv(\"https://raw.githubusercontent.com/bmjaron/dsc-nonparametric-models-lab/master/data/forest_cover.csv\")\n",
        "df"
      ]
    },
    {
      "cell_type": "markdown",
      "metadata": {
        "id": "n-hZbXm91Eyv"
      },
      "source": [
        "> As you can see, we have over 38,000 rows, each with 52 feature columns and 1 target column:\n",
        "\n",
        "> * `Elevation`: Elevation in meters\n",
        "> * `Aspect`: Aspect in degrees azimuth\n",
        "> * `Slope`: Slope in degrees\n",
        "> * `Horizontal_Distance_To_Hydrology`: Horizontal dist to nearest surface water features in meters\n",
        "> * `Vertical_Distance_To_Hydrology`: Vertical dist to nearest surface water features in meters\n",
        "> * `Horizontal_Distance_To_Roadways`: Horizontal dist to nearest roadway in meters\n",
        "> * `Hillshade_9am`: Hillshade index at 9am, summer solstice\n",
        "> * `Hillshade_Noon`: Hillshade index at noon, summer solstice\n",
        "> * `Hillshade_3pm`: Hillshade index at 3pm, summer solstice\n",
        "> * `Horizontal_Distance_To_Fire_Points`: Horizontal dist to nearest wildfire ignition points, meters\n",
        "> * `Wilderness_Area_x`: Wilderness area designation (3 columns)\n",
        "> * `Soil_Type_x`: Soil Type designation (39 columns)\n",
        "> * `Cover_Type`: 1 for cottonwood/willow, 0 for ponderosa pine\n",
        "\n",
        "This is also an imbalanced dataset, since cottonwood/willow trees are relatively rare in this forest:"
      ]
    },
    {
      "cell_type": "code",
      "execution_count": 2,
      "metadata": {
        "id": "CFInYpck1Eyv",
        "outputId": "7ce16b52-1887-41c5-beea-7e9836110f76",
        "colab": {
          "base_uri": "https://localhost:8080/"
        }
      },
      "outputs": [
        {
          "output_type": "stream",
          "name": "stdout",
          "text": [
            "Raw Counts\n",
            "0    35754\n",
            "1     2747\n",
            "Name: Cover_Type, dtype: int64\n",
            "\n",
            "Percentages\n",
            "0    0.928651\n",
            "1    0.071349\n",
            "Name: Cover_Type, dtype: float64\n"
          ]
        }
      ],
      "source": [
        "# Run this cell without changes\n",
        "print(\"Raw Counts\")\n",
        "print(df[\"Cover_Type\"].value_counts())\n",
        "print()\n",
        "print(\"Percentages\")\n",
        "print(df[\"Cover_Type\"].value_counts(normalize=True))"
      ]
    },
    {
      "cell_type": "markdown",
      "metadata": {
        "id": "sO3OgFlX1Eyv"
      },
      "source": [
        "Thus, a baseline model that always chose the majority class would have an accuracy of over 92%. Therefore we will want to report additional metrics at the end."
      ]
    },
    {
      "cell_type": "markdown",
      "metadata": {
        "id": "Drjx2gPl1Eyw"
      },
      "source": [
        "### Previous Best Model\n",
        "\n",
        "In a previous lab, we used SMOTE to create additional synthetic data, then tuned the hyperparameters of a logistic regression model to get the following final model metrics:\n",
        "\n",
        "* **Log loss:** 0.13031294393913376\n",
        "* **Accuracy:** 0.9456679825472678\n",
        "* **Precision:** 0.6659919028340081\n",
        "* **Recall:** 0.47889374090247455\n",
        "\n",
        "In this lab, you will try to beat those scores using more-complex, nonparametric models.\n",
        "\n",
        "### Modeling\n",
        "\n",
        "Although you may be aware of some additional model algorithms available from scikit-learn, for this lab you will be focusing on two of them: k-nearest neighbors and decision trees. Here are some reminders about these models:\n",
        "\n",
        "#### kNN - [documentation here](https://scikit-learn.org/stable/modules/generated/sklearn.neighbors.KNeighborsClassifier.html)\n",
        "\n",
        "This algorithm — unlike linear models or tree-based models — does not emphasize learning the relationship between the features and the target. Instead, for a given test record, it finds the most similar records in the training set and returns an average of their target values.\n",
        "\n",
        "* **Training speed:** Fast. In theory it's just saving the training data for later, although the scikit-learn implementation has some additional logic \"under the hood\" to make prediction faster.\n",
        "* **Prediction speed:** Very slow. The model has to look at every record in the training set to find the k closest to the new record.\n",
        "* **Requires scaling:** Yes. The algorithm to find the nearest records is distance-based, so it matters that distances are all on the same scale.\n",
        "* **Key hyperparameters:** `n_neighbors` (how many nearest neighbors to find; too few neighbors leads to overfitting, too many leads to underfitting), `p` and `metric` (what kind of distance to use in defining \"nearest\" neighbors)\n",
        "\n",
        "#### Decision Trees - [documentation here](https://scikit-learn.org/stable/modules/generated/sklearn.tree.DecisionTreeClassifier.html)\n",
        "\n",
        "Similar to linear models (and unlike kNN), this algorithm emphasizes learning the relationship between the features and the target. However, unlike a linear model that tries to find linear relationships between each of the features and the target, decision trees look for ways to split the data based on features to decrease the entropy of the target in each split.\n",
        "\n",
        "* **Training speed:** Slow. The model is considering splits based on as many as all of the available features, and it can split on the same feature multiple times. This requires exponential computational time that increases based on the number of columns as well as the number of rows.\n",
        "* **Prediction speed:** Medium fast. Producing a prediction with a decision tree means applying several conditional statements, which is slower than something like logistic regression but faster than kNN.\n",
        "* **Requires scaling:** No. This model is not distance-based. You also can use a `LabelEncoder` rather than `OneHotEncoder` for categorical data, since this algorithm doesn't necessarily assume that the distance between `1` and `2` is the same as the distance between `2` and `3`.\n",
        "* **Key hyperparameters:** Many features relating to \"pruning\" the tree. By default they are set so the tree can overfit, and by setting them higher or lower (depending on the hyperparameter) you can reduce overfitting, but too much will lead to underfitting. These are: `max_depth`, `min_samples_split`, `min_samples_leaf`, `min_weight_fraction_leaf`, `max_features`, `max_leaf_nodes`, and `min_impurity_decrease`. You can also try changing the `criterion` to \"entropy\" or the `splitter` to \"random\" if you want to change the splitting logic."
      ]
    },
    {
      "cell_type": "markdown",
      "metadata": {
        "id": "1RdvDP281Eyw"
      },
      "source": [
        "### Requirements\n",
        "\n",
        "#### 1. Prepare the Data for Modeling\n",
        "\n",
        "#### 2. Build a Baseline kNN Model\n",
        "\n",
        "#### 3. Build Iterative Models to Find the Best kNN Model\n",
        "\n",
        "#### 4. Build a Baseline Decision Tree Model\n",
        "\n",
        "#### 5. Build Iterative Models to Find the Best Decision Tree Model\n",
        "\n",
        "#### 6. Choose and Evaluate an Overall Best Model"
      ]
    },
    {
      "cell_type": "markdown",
      "metadata": {
        "id": "zS8gBenO1Eyw"
      },
      "source": [
        "## 1. Prepare the Data for Modeling\n",
        "\n",
        "The target is `Cover_Type`. In the cell below, split `df` into `X` and `y`, then perform a train-test split with `random_state=42` and `stratify=y` to create variables with the standard `X_train`, `X_test`, `y_train`, `y_test` names.\n",
        "\n",
        "Include the relevant imports as you go."
      ]
    },
    {
      "cell_type": "code",
      "execution_count": 3,
      "metadata": {
        "id": "0X2DpmZG1Eyw"
      },
      "outputs": [],
      "source": [
        "from sklearn.model_selection import train_test_split\n",
        "\n",
        "y = df['Cover_Type']\n",
        "X = df.drop('Cover_Type', axis=1)\n",
        "\n",
        "X_train, X_test, y_train, y_test = train_test_split(X,y,random_state=42, stratify=y)"
      ]
    },
    {
      "cell_type": "markdown",
      "metadata": {
        "id": "-HbkaNNk1Eyw"
      },
      "source": [
        "Now, instantiate a `StandardScaler`, fit it on `X_train`, and create new variables `X_train_scaled` and `X_test_scaled` containing values transformed with the scaler."
      ]
    },
    {
      "cell_type": "code",
      "execution_count": 4,
      "metadata": {
        "id": "oLc3eYsF1Eyx"
      },
      "outputs": [],
      "source": [
        "# Your code here\n",
        "from sklearn.preprocessing import StandardScaler\n",
        "\n",
        "scaler = StandardScaler()\n",
        "scaler.fit(X_train)\n",
        "\n",
        "X_train_scaled = scaler.transform(X_train)\n",
        "X_test_scaled = scaler.transform(X_test)"
      ]
    },
    {
      "cell_type": "markdown",
      "metadata": {
        "id": "CONd-tEL1Eyx"
      },
      "source": [
        "The following code checks that everything is set up correctly:"
      ]
    },
    {
      "cell_type": "code",
      "execution_count": 5,
      "metadata": {
        "id": "qHYvEcKd1Eyx"
      },
      "outputs": [],
      "source": [
        "# Run this cell without changes\n",
        "\n",
        "# Checking that df was separated into correct X and y\n",
        "assert type(X) == pd.DataFrame and X.shape == (38501, 52)\n",
        "assert type(y) == pd.Series and y.shape == (38501,)\n",
        "\n",
        "# Checking the train-test split\n",
        "assert type(X_train) == pd.DataFrame and X_train.shape == (28875, 52)\n",
        "assert type(X_test) == pd.DataFrame and X_test.shape == (9626, 52)\n",
        "assert type(y_train) == pd.Series and y_train.shape == (28875,)\n",
        "assert type(y_test) == pd.Series and y_test.shape == (9626,)\n",
        "\n",
        "# Checking the scaling\n",
        "assert X_train_scaled.shape == X_train.shape\n",
        "assert round(X_train_scaled[0][0], 3) == -0.636\n",
        "assert X_test_scaled.shape == X_test.shape\n",
        "assert round(X_test_scaled[0][0], 3) == -1.370"
      ]
    },
    {
      "cell_type": "markdown",
      "metadata": {
        "id": "Fr-vrOsv1Eyx"
      },
      "source": [
        "## 2. Build a Baseline kNN Model\n",
        "\n",
        "Build a scikit-learn kNN model with default hyperparameters. Then use `cross_val_score` with `scoring=\"neg_log_loss\"` to find the mean log loss for this model (passing in `X_train_scaled` and `y_train` to `cross_val_score`). You'll need to find the mean of the cross-validated scores, and negate the value (either put a `-` at the beginning or multiply by `-1`) so that your answer is a log loss rather than a negative log loss.\n",
        "\n",
        "Call the resulting score `knn_baseline_log_loss`.\n",
        "\n",
        "Your code might take a minute or more to run."
      ]
    },
    {
      "cell_type": "code",
      "execution_count": 6,
      "metadata": {
        "id": "LOIG3iDT1Eyx",
        "outputId": "b2872f56-f8e4-49fa-d840-56ee48c32f2e",
        "colab": {
          "base_uri": "https://localhost:8080/"
        }
      },
      "outputs": [
        {
          "output_type": "execute_result",
          "data": {
            "text/plain": [
              "0.12964546386734577"
            ]
          },
          "metadata": {},
          "execution_count": 6
        }
      ],
      "source": [
        "# Replace None with appropriate code\n",
        "\n",
        "# Relevant imports\n",
        "from sklearn.neighbors import KNeighborsClassifier\n",
        "from sklearn.model_selection import cross_val_score\n",
        "\n",
        "\n",
        "# Creating the model\n",
        "knn_baseline_model = KNeighborsClassifier()\n",
        "\n",
        "# Perform cross-validation\n",
        "knn_baseline_log_loss = cross_val_score(knn_baseline_model, X_train_scaled, y_train, scoring='neg_log_loss').mean()*-1\n",
        "\n",
        "knn_baseline_log_loss"
      ]
    },
    {
      "cell_type": "markdown",
      "metadata": {
        "id": "HwVdv3y01Eyx"
      },
      "source": [
        "Our best logistic regression model had a log loss of 0.13031294393913376\n",
        "\n",
        "Is this model better? Compare it in terms of metrics and speed."
      ]
    },
    {
      "cell_type": "code",
      "execution_count": 7,
      "metadata": {
        "id": "JLfTPiU51Eyx",
        "colab": {
          "base_uri": "https://localhost:8080/",
          "height": 36
        },
        "outputId": "fc692e94-625e-478e-bbd0-dac409112938"
      },
      "outputs": [
        {
          "output_type": "execute_result",
          "data": {
            "text/plain": [
              "\"\\nThe log loss in our model is lower, and therefore we can say that it's a better mode.\\n\""
            ],
            "application/vnd.google.colaboratory.intrinsic+json": {
              "type": "string"
            }
          },
          "metadata": {},
          "execution_count": 7
        }
      ],
      "source": [
        "# Replace None with appropriate text\n",
        "\"\"\"\n",
        "The log loss in our model is lower, and therefore we can say that it's a better mode.\n",
        "\"\"\""
      ]
    },
    {
      "cell_type": "markdown",
      "metadata": {
        "id": "beLXNmlq1Eyx"
      },
      "source": [
        "## 3. Build Iterative Models to Find the Best kNN Model\n",
        "\n",
        "Build and evaluate at least two more kNN models to find the best one. Explain why you are changing the hyperparameters you are changing as you go. These models will be *slow* to run, so be thinking about what you might try next as you run them."
      ]
    },
    {
      "cell_type": "code",
      "execution_count": 8,
      "metadata": {
        "id": "b2-Odei-1Eyx"
      },
      "outputs": [],
      "source": [
        "#As it will be too slow to iterate thru a range of numbers and find the\n",
        "#optimal n-neighbors, we'll instead just square default 5 and check with 25 nearest neighbors\n",
        "#This will help us reduce overfitting and have a better model\n",
        "\n",
        "knn_model_2 = KNeighborsClassifier(n_neighbors=25)\n",
        "knn_model_2_log_loss = cross_val_score(knn_model_2, X_train, y_train, scoring=\"neg_log_loss\").mean()*-1\n"
      ]
    },
    {
      "cell_type": "code",
      "source": [
        "knn_model_2_log_loss"
      ],
      "metadata": {
        "colab": {
          "base_uri": "https://localhost:8080/"
        },
        "id": "QeC3AiAfNqes",
        "outputId": "1d42769f-825e-4d64-b07b-e1b72f0cfdc3"
      },
      "execution_count": 9,
      "outputs": [
        {
          "output_type": "execute_result",
          "data": {
            "text/plain": [
              "0.07191498003868804"
            ]
          },
          "metadata": {},
          "execution_count": 9
        }
      ]
    },
    {
      "cell_type": "code",
      "execution_count": 10,
      "metadata": {
        "id": "XzTak2Da1Eyx",
        "colab": {
          "base_uri": "https://localhost:8080/"
        },
        "outputId": "a38644d3-4db4-4f26-af8a-eb87a0bb499c"
      },
      "outputs": [
        {
          "output_type": "execute_result",
          "data": {
            "text/plain": [
              "0.058837103902293145"
            ]
          },
          "metadata": {},
          "execution_count": 10
        }
      ],
      "source": [
        "#The other metric we've learned how to alter is distance, so we'll try to run the above model with Manhattan distance\n",
        "knn_model_3 = KNeighborsClassifier(n_neighbors=25, metric='manhattan')\n",
        "knn_model_3_log_loss = cross_val_score(knn_model_3, X_train, y_train, scoring=\"neg_log_loss\").mean()*-1\n",
        "knn_model_3_log_loss"
      ]
    },
    {
      "cell_type": "code",
      "execution_count": 11,
      "metadata": {
        "id": "nTtS1SEE1Eyx"
      },
      "outputs": [],
      "source": [
        "# Your code here (add more cells as needed)"
      ]
    },
    {
      "cell_type": "markdown",
      "metadata": {
        "id": "GvN9dtYZ1Eyx"
      },
      "source": [
        "## 4. Build a Baseline Decision Tree Model\n",
        "\n",
        "Now that you have chosen your best kNN model, start investigating decision tree models. First, build and evaluate a baseline decision tree model, using default hyperparameters (with the exception of `random_state=42` for reproducibility).\n",
        "\n",
        "(Use cross-validated log loss, just like with the previous models.)"
      ]
    },
    {
      "cell_type": "code",
      "execution_count": 12,
      "metadata": {
        "id": "X0_NE3wa1Eyx",
        "colab": {
          "base_uri": "https://localhost:8080/"
        },
        "outputId": "0a6a88bc-e65d-42c1-89fc-6810f83621d9"
      },
      "outputs": [
        {
          "output_type": "execute_result",
          "data": {
            "text/plain": [
              "0.7352281158853683"
            ]
          },
          "metadata": {},
          "execution_count": 12
        }
      ],
      "source": [
        "# Your code here\n",
        "from sklearn.tree import DecisionTreeClassifier\n",
        "\n",
        "dtc_baseline = DecisionTreeClassifier(random_state=42)\n",
        "cross_val_score(dtc_baseline, X_train, y_train, scoring='neg_log_loss').mean()*-1"
      ]
    },
    {
      "cell_type": "markdown",
      "metadata": {
        "id": "Ya3tEllM1Eyy"
      },
      "source": [
        "Interpret this score. How does this compare to the log loss from our best logistic regression and best kNN models? Any guesses about why?"
      ]
    },
    {
      "cell_type": "code",
      "execution_count": 13,
      "metadata": {
        "id": "XTZd-gWo1Eyy",
        "outputId": "71d60246-02a4-4dc4-f628-04638228ab3b",
        "colab": {
          "base_uri": "https://localhost:8080/",
          "height": 36
        }
      },
      "outputs": [
        {
          "output_type": "execute_result",
          "data": {
            "text/plain": [
              "'\\nI would guess that since the decision tree model is a greedy model that always tries to make splits that maximize the fit on the training data.\\n\\n'"
            ],
            "application/vnd.google.colaboratory.intrinsic+json": {
              "type": "string"
            }
          },
          "metadata": {},
          "execution_count": 13
        }
      ],
      "source": [
        "# Replace None with appropriate text\n",
        "\"\"\"\n",
        "I would guess that since the decision tree model is a greedy model that always tries to make splits that maximize the fit on the training data.\n",
        "\n",
        "\"\"\""
      ]
    },
    {
      "cell_type": "markdown",
      "metadata": {
        "id": "tLoUWwth1Eyy"
      },
      "source": [
        "## 5. Build Iterative Models to Find the Best Decision Tree Model\n",
        "\n",
        "Build and evaluate at least two more decision tree models to find the best one. Explain why you are changing the hyperparameters you are changing as you go."
      ]
    },
    {
      "cell_type": "code",
      "execution_count": 24,
      "metadata": {
        "id": "5hRRxwPD1Eyy",
        "outputId": "f778b862-f88b-4ea8-ec7c-3e0a30a57a14",
        "colab": {
          "base_uri": "https://localhost:8080/",
          "height": 447
        }
      },
      "outputs": [
        {
          "output_type": "execute_result",
          "data": {
            "text/plain": [
              "[<matplotlib.lines.Line2D at 0x78114b8fb520>]"
            ]
          },
          "metadata": {},
          "execution_count": 24
        },
        {
          "output_type": "display_data",
          "data": {
            "text/plain": [
              "<Figure size 640x480 with 1 Axes>"
            ],
            "image/png": "[encoded data removed]"
          },
          "metadata": {}
        }
      ],
      "source": [
        "# Your code here (add more cells as needed)\n",
        "import matplotlib.pyplot as plt\n",
        "%matplotlib inline\n",
        "\n",
        "scores = []\n",
        "for x in range(2,31):\n",
        "  dtc = DecisionTreeClassifier(min_samples_split=x)\n",
        "  scores.append(cross_val_score(dtc, X_train, y_train, scoring='neg_log_loss').mean()*-1)\n",
        "\n",
        "plt.plot(range(2,31), scores)"
      ]
    },
    {
      "cell_type": "code",
      "execution_count": 25,
      "metadata": {
        "id": "dmJ1x84k1Eyy",
        "outputId": "90160f81-0883-49d6-b79e-3c2714928d82",
        "colab": {
          "base_uri": "https://localhost:8080/",
          "height": 447
        }
      },
      "outputs": [
        {
          "output_type": "execute_result",
          "data": {
            "text/plain": [
              "[<matplotlib.lines.Line2D at 0x78114b7bf310>]"
            ]
          },
          "metadata": {},
          "execution_count": 25
        },
        {
          "output_type": "display_data",
          "data": {
            "text/plain": [
              "<Figure size 640x480 with 1 Axes>"
            ],
            "image/png": "[encoded data removed]"
          },
          "metadata": {}
        }
      ],
      "source": [
        "# Your code here (add more cells as needed)\n",
        "scores = []\n",
        "for x in range(31,45):\n",
        "  dtc = DecisionTreeClassifier(min_samples_split=x)\n",
        "  scores.append(cross_val_score(dtc, X_train, y_train, scoring='neg_log_loss').mean()*-1)\n",
        "\n",
        "plt.plot(range(31,45), scores)"
      ]
    },
    {
      "cell_type": "code",
      "execution_count": 26,
      "metadata": {
        "id": "vO75sK8r1Eyy",
        "outputId": "56f8dba8-8d47-4433-b0e3-b02c37bc99b8",
        "colab": {
          "base_uri": "https://localhost:8080/",
          "height": 447
        }
      },
      "outputs": [
        {
          "output_type": "execute_result",
          "data": {
            "text/plain": [
              "[<matplotlib.lines.Line2D at 0x78114b5e8c10>]"
            ]
          },
          "metadata": {},
          "execution_count": 26
        },
        {
          "output_type": "display_data",
          "data": {
            "text/plain": [
              "<Figure size 640x480 with 1 Axes>"
            ],
            "image/png": "[encoded data removed]"
          },
          "metadata": {}
        }
      ],
      "source": [
        "# Your code here (add more cells as needed)\n",
        "\n",
        "scores = []\n",
        "for x in range(1,10):\n",
        "  dtc = DecisionTreeClassifier(min_samples_split=50, max_depth=x)\n",
        "  scores.append(cross_val_score(dtc, X_train, y_train, scoring='neg_log_loss').mean()*-1)\n",
        "\n",
        "plt.plot(range(1,10), scores)"
      ]
    },
    {
      "cell_type": "markdown",
      "metadata": {
        "id": "EOjd5tj01Eyy"
      },
      "source": [
        "## 6. Choose and Evaluate an Overall Best Model\n",
        "\n",
        "Which model had the best performance? What type of model was it?\n",
        "\n",
        "Instantiate a variable `final_model` using your best model with the best hyperparameters."
      ]
    },
    {
      "cell_type": "code",
      "execution_count": 28,
      "metadata": {
        "id": "dsrBK5cJ1Eyz",
        "outputId": "ddfd4b6b-9c16-4fc1-acc6-9d5defa9fcca",
        "colab": {
          "base_uri": "https://localhost:8080/",
          "height": 74
        }
      },
      "outputs": [
        {
          "output_type": "execute_result",
          "data": {
            "text/plain": [
              "DecisionTreeClassifier(max_depth=7, min_samples_split=50, random_state=42)"
            ],
            "text/html": [
              "<style>#sk-container-id-1 {color: black;background-color: white;}#sk-container-id-1 pre{padding: 0;}#sk-container-id-1 div.sk-toggleable {background-color: white;}#sk-container-id-1 label.sk-toggleable__label {cursor: pointer;display: block;width: 100%;margin-bottom: 0;padding: 0.3em;box-sizing: border-box;text-align: center;}#sk-container-id-1 label.sk-toggleable__label-arrow:before {content: \"▸\";float: left;margin-right: 0.25em;color: #696969;}#sk-container-id-1 label.sk-toggleable__label-arrow:hover:before {color: black;}#sk-container-id-1 div.sk-estimator:hover label.sk-toggleable__label-arrow:before {color: black;}#sk-container-id-1 div.sk-toggleable__content {max-height: 0;max-width: 0;overflow: hidden;text-align: left;background-color: #f0f8ff;}#sk-container-id-1 div.sk-toggleable__content pre {margin: 0.2em;color: black;border-radius: 0.25em;background-color: #f0f8ff;}#sk-container-id-1 input.sk-toggleable__control:checked~div.sk-toggleable__content {max-height: 200px;max-width: 100%;overflow: auto;}#sk-container-id-1 input.sk-toggleable__control:checked~label.sk-toggleable__label-arrow:before {content: \"▾\";}#sk-container-id-1 div.sk-estimator input.sk-toggleable__control:checked~label.sk-toggleable__label {background-color: #d4ebff;}#sk-container-id-1 div.sk-label input.sk-toggleable__control:checked~label.sk-toggleable__label {background-color: #d4ebff;}#sk-container-id-1 input.sk-hidden--visually {border: 0;clip: rect(1px 1px 1px 1px);clip: rect(1px, 1px, 1px, 1px);height: 1px;margin: -1px;overflow: hidden;padding: 0;position: absolute;width: 1px;}#sk-container-id-1 div.sk-estimator {font-family: monospace;background-color: #f0f8ff;border: 1px dotted black;border-radius: 0.25em;box-sizing: border-box;margin-bottom: 0.5em;}#sk-container-id-1 div.sk-estimator:hover {background-color: #d4ebff;}#sk-container-id-1 div.sk-parallel-item::after {content: \"\";width: 100%;border-bottom: 1px solid gray;flex-grow: 1;}#sk-container-id-1 div.sk-label:hover label.sk-toggleable__label {background-color: #d4ebff;}#sk-container-id-1 div.sk-serial::before {content: \"\";position: absolute;border-left: 1px solid gray;box-sizing: border-box;top: 0;bottom: 0;left: 50%;z-index: 0;}#sk-container-id-1 div.sk-serial {display: flex;flex-direction: column;align-items: center;background-color: white;padding-right: 0.2em;padding-left: 0.2em;position: relative;}#sk-container-id-1 div.sk-item {position: relative;z-index: 1;}#sk-container-id-1 div.sk-parallel {display: flex;align-items: stretch;justify-content: center;background-color: white;position: relative;}#sk-container-id-1 div.sk-item::before, #sk-container-id-1 div.sk-parallel-item::before {content: \"\";position: absolute;border-left: 1px solid gray;box-sizing: border-box;top: 0;bottom: 0;left: 50%;z-index: -1;}#sk-container-id-1 div.sk-parallel-item {display: flex;flex-direction: column;z-index: 1;position: relative;background-color: white;}#sk-container-id-1 div.sk-parallel-item:first-child::after {align-self: flex-end;width: 50%;}#sk-container-id-1 div.sk-parallel-item:last-child::after {align-self: flex-start;width: 50%;}#sk-container-id-1 div.sk-parallel-item:only-child::after {width: 0;}#sk-container-id-1 div.sk-dashed-wrapped {border: 1px dashed gray;margin: 0 0.4em 0.5em 0.4em;box-sizing: border-box;padding-bottom: 0.4em;background-color: white;}#sk-container-id-1 div.sk-label label {font-family: monospace;font-weight: bold;display: inline-block;line-height: 1.2em;}#sk-container-id-1 div.sk-label-container {text-align: center;}#sk-container-id-1 div.sk-container {/* jupyter's `normalize.less` sets `[hidden] { display: none; }` but bootstrap.min.css set `[hidden] { display: none !important; }` so we also need the `!important` here to be able to override the default hidden behavior on the sphinx rendered scikit-learn.org. See: https://github.com/scikit-learn/scikit-learn/issues/21755 */display: inline-block !important;position: relative;}#sk-container-id-1 div.sk-text-repr-fallback {display: none;}</style><div id=\"sk-container-id-1\" class=\"sk-top-container\"><div class=\"sk-text-repr-fallback\"><pre>DecisionTreeClassifier(max_depth=7, min_samples_split=50, random_state=42)</pre><b>In a Jupyter environment, please rerun this cell to show the HTML representation or trust the notebook. <br />On GitHub, the HTML representation is unable to render, please try loading this page with nbviewer.org.</b></div><div class=\"sk-container\" hidden><div class=\"sk-item\"><div class=\"sk-estimator sk-toggleable\"><input class=\"sk-toggleable__control sk-hidden--visually\" id=\"sk-estimator-id-1\" type=\"checkbox\" checked><label for=\"sk-estimator-id-1\" class=\"sk-toggleable__label sk-toggleable__label-arrow\">DecisionTreeClassifier</label><div class=\"sk-toggleable__content\"><pre>DecisionTreeClassifier(max_depth=7, min_samples_split=50, random_state=42)</pre></div></div></div></div></div>"
            ]
          },
          "metadata": {},
          "execution_count": 28
        }
      ],
      "source": [
        "# Replace None with appropriate code\n",
        "final_model = DecisionTreeClassifier(random_state=42, max_depth=7, min_samples_split=50)\n",
        "\n",
        "# Fit the model on the full training data\n",
        "# (scaled or unscaled depending on the model)\n",
        "final_model.fit(X_train, y_train)"
      ]
    },
    {
      "cell_type": "markdown",
      "metadata": {
        "id": "L1rgsT9o1Eyz"
      },
      "source": [
        "Now, evaluate the log loss, accuracy, precision, and recall. This code is mostly filled in for you, but you need to replace `None` with either `X_test` or `X_test_scaled` depending on the model you chose."
      ]
    },
    {
      "cell_type": "code",
      "execution_count": 30,
      "metadata": {
        "id": "I5TK6jJP1Eyz",
        "outputId": "2566cbdc-d682-4985-94a9-6cd8a054a316",
        "colab": {
          "base_uri": "https://localhost:8080/"
        }
      },
      "outputs": [
        {
          "output_type": "stream",
          "name": "stdout",
          "text": [
            "log loss:  0.1413491214463994\n",
            "accuracy:  0.9729898192395595\n",
            "precision: 0.8289676425269645\n",
            "recall:    0.7831149927219796\n"
          ]
        }
      ],
      "source": [
        "# Replace None with appropriate code\n",
        "from sklearn.metrics import accuracy_score, precision_score, recall_score, log_loss\n",
        "\n",
        "preds = final_model.predict(X_test)\n",
        "probs = final_model.predict_proba(X_test)\n",
        "\n",
        "print(\"log loss: \", log_loss(y_test, probs))\n",
        "print(\"accuracy: \", accuracy_score(y_test, preds))\n",
        "print(\"precision:\", precision_score(y_test, preds))\n",
        "print(\"recall:   \", recall_score(y_test, preds))"
      ]
    },
    {
      "cell_type": "markdown",
      "metadata": {
        "id": "h9FXgQ-c1Eyz"
      },
      "source": [
        "Interpret your model performance. How would it perform on different kinds of tasks? How much better is it than a \"dummy\" model that always chooses the majority class, or the logistic regression described at the start of the lab?"
      ]
    },
    {
      "cell_type": "code",
      "execution_count": 31,
      "metadata": {
        "id": "D26TixbG1Eyz",
        "outputId": "11c7a23b-3c12-4e78-bdb2-ccf5e16741a5",
        "colab": {
          "base_uri": "https://localhost:8080/",
          "height": 36
        }
      },
      "outputs": [
        {
          "output_type": "execute_result",
          "data": {
            "text/plain": [
              "\"\\nThis model performs much better than the dummy model, although it doesn't perform as well as the logistic regression model. \\n\""
            ],
            "application/vnd.google.colaboratory.intrinsic+json": {
              "type": "string"
            }
          },
          "metadata": {},
          "execution_count": 31
        }
      ],
      "source": [
        "# Replace None with appropriate text\n",
        "\"\"\"\n",
        "This model performs much better than the dummy model, although it doesn't perform as well as the logistic regression model.\n",
        "\"\"\""
      ]
    },
    {
      "cell_type": "markdown",
      "metadata": {
        "id": "lVjogup71Eyz"
      },
      "source": [
        "## Conclusion\n",
        "\n",
        "In this lab, you practiced the end-to-end machine learning process with multiple model algorithms, including tuning the hyperparameters for those different algorithms. You saw how nonparametric models can be more flexible than linear models, potentially leading to overfitting but also potentially reducing underfitting by being able to learn non-linear relationships between variables. You also likely saw how there can be a tradeoff between speed and performance, with good metrics correlating with slow speeds."
      ]
    }
  ],
  "metadata": {
    "kernelspec": {
      "display_name": "Python (learn-env)",
      "language": "python",
      "name": "learn-env"
    },
    "language_info": {
      "codemirror_mode": {
        "name": "ipython",
        "version": 3
      },
      "file_extension": ".py",
      "mimetype": "text/x-python",
      "name": "python",
      "nbconvert_exporter": "python",
      "pygments_lexer": "ipython3",
      "version": "3.8.5"
    },
    "colab": {
      "provenance": []
    }
  },
  "nbformat": 4,
  "nbformat_minor": 0
}